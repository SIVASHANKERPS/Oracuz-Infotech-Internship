{
  "nbformat": 4,
  "nbformat_minor": 0,
  "metadata": {
    "colab": {
      "provenance": [],
      "include_colab_link": true
    },
    "kernelspec": {
      "name": "python3",
      "display_name": "Python 3"
    },
    "language_info": {
      "name": "python"
    }
  },
  "cells": [
    {
      "cell_type": "markdown",
      "metadata": {
        "id": "view-in-github",
        "colab_type": "text"
      },
      "source": [
        "<a href=\"https://colab.research.google.com/github/SIVASHANKERPS/Oracuz-Infotech-Internship/blob/main/conditions.ipynb\" target=\"_parent\"><img src=\"https://colab.research.google.com/assets/colab-badge.svg\" alt=\"Open In Colab\"/></a>"
      ]
    },
    {
      "cell_type": "code",
      "execution_count": null,
      "metadata": {
        "id": "hEhx377FfPUr"
      },
      "outputs": [],
      "source": [
        "# if"
      ]
    },
    {
      "cell_type": "code",
      "source": [
        "a=10"
      ],
      "metadata": {
        "id": "3VNHVh1mfUFg"
      },
      "execution_count": null,
      "outputs": []
    },
    {
      "cell_type": "code",
      "source": [
        "if a%2==0:\n",
        " print(\"a is even\")\n",
        "else:\n",
        "  print(\"odd\") "
      ],
      "metadata": {
        "colab": {
          "base_uri": "https://localhost:8080/"
        },
        "id": "2tMPv9Nqgi2o",
        "outputId": "0cf67f94-591d-4ead-dba3-ee11600c5b29"
      },
      "execution_count": null,
      "outputs": [
        {
          "output_type": "stream",
          "name": "stdout",
          "text": [
            "a is even\n"
          ]
        }
      ]
    },
    {
      "cell_type": "code",
      "source": [
        "a={\"vishal\",\"vchu\",\"siva\"}\n",
        "if \"vchu\" in a:\n",
        "  print(\"value is present\")\n",
        "else:\n",
        "  print(\"value is not present\")  "
      ],
      "metadata": {
        "colab": {
          "base_uri": "https://localhost:8080/"
        },
        "id": "8W7K-IHghMt5",
        "outputId": "25121e8d-c1fa-4b5e-f7fc-cee4ed83de3b"
      },
      "execution_count": null,
      "outputs": [
        {
          "output_type": "stream",
          "name": "stdout",
          "text": [
            "value is present\n"
          ]
        }
      ]
    },
    {
      "cell_type": "code",
      "source": [
        "a=input(\"enter a string\")\n",
        "b=0\n",
        "for c in a[:4]:\n",
        "  if c.isupper():\n",
        "    b+=1\n",
        "if b>2:\n",
        "  print(a.upper())"
      ],
      "metadata": {
        "id": "VNp_5xNajOyr",
        "colab": {
          "base_uri": "https://localhost:8080/"
        },
        "outputId": "ed251c39-c081-40a5-ea39-453ebfb1c8ae"
      },
      "execution_count": null,
      "outputs": [
        {
          "name": "stdout",
          "output_type": "stream",
          "text": [
            "enter a stringVIshal\n"
          ]
        }
      ]
    },
    {
      "cell_type": "code",
      "source": [
        "number=[1,2,3,4,5,6,7,8,9]\n",
        "even=0\n",
        "odd=0\n",
        "for a in number:\n",
        "  if a%2==0:\n",
        "    even+=1\n",
        "  elif a%2!=0:\n",
        "    odd+=1\n",
        "print(\"number of even\",even)\n",
        "print(\"number of odd\",odd)\n"
      ],
      "metadata": {
        "colab": {
          "base_uri": "https://localhost:8080/"
        },
        "id": "CdjeotwVqxrj",
        "outputId": "76ea53fa-8d11-4df6-afd7-9bafbd79c8fe"
      },
      "execution_count": null,
      "outputs": [
        {
          "output_type": "stream",
          "name": "stdout",
          "text": [
            "number of even 4\n",
            "number of odd 5\n"
          ]
        }
      ]
    },
    {
      "cell_type": "code",
      "source": [
        "a=input(\"enter the string\")\n",
        "alphas=0\n",
        "digits=0\n",
        "for b in a:\n",
        "  if b.isdigit():\n",
        "    digits+=1\n",
        "  elif b.isalpha():\n",
        "    alphas+=1\n",
        "print(\"number of digits\",digits)\n",
        "print(\"number of alphabets\",alphas)\n",
        "\n",
        "\n",
        "    \n"
      ],
      "metadata": {
        "colab": {
          "base_uri": "https://localhost:8080/"
        },
        "id": "MZixYsxHzIeM",
        "outputId": "6a5c0c46-c96d-4ae7-b26c-805ae6d11991"
      },
      "execution_count": null,
      "outputs": [
        {
          "output_type": "stream",
          "name": "stdout",
          "text": [
            "enter the stringsiva1245\n",
            "number of digits 4\n",
            "number of alphabets 4\n"
          ]
        }
      ]
    },
    {
      "cell_type": "code",
      "source": [
        "a=1\n",
        "while a<=5:\n",
        "  print (a)\n",
        "  a=a+1"
      ],
      "metadata": {
        "colab": {
          "base_uri": "https://localhost:8080/"
        },
        "id": "h_63HGgr4FT7",
        "outputId": "4948443c-f2e0-4daa-84d9-eb34b5d725d2"
      },
      "execution_count": null,
      "outputs": [
        {
          "output_type": "stream",
          "name": "stdout",
          "text": [
            "1\n",
            "2\n",
            "3\n",
            "4\n",
            "5\n"
          ]
        }
      ]
    },
    {
      "cell_type": "code",
      "source": [
        "a=0\n",
        "while a<=20 and a%2==0:\n",
        "  a=a+2\n",
        "  print(a)"
      ],
      "metadata": {
        "colab": {
          "base_uri": "https://localhost:8080/"
        },
        "id": "sWuq-0Oyo2ES",
        "outputId": "15ac0291-4666-44ce-f719-efc38ed48783"
      },
      "execution_count": null,
      "outputs": [
        {
          "output_type": "stream",
          "name": "stdout",
          "text": [
            "2\n",
            "4\n",
            "6\n",
            "8\n",
            "10\n",
            "12\n",
            "14\n",
            "16\n",
            "18\n",
            "20\n",
            "22\n"
          ]
        }
      ]
    },
    {
      "cell_type": "code",
      "source": [
        "for a in range(0,20,2):\n",
        "  print(a)"
      ],
      "metadata": {
        "colab": {
          "base_uri": "https://localhost:8080/"
        },
        "id": "6-rwJHofu-h1",
        "outputId": "1595dca8-dffe-46d3-d074-e4a3bff83714"
      },
      "execution_count": null,
      "outputs": [
        {
          "output_type": "stream",
          "name": "stdout",
          "text": [
            "0\n",
            "2\n",
            "4\n",
            "6\n",
            "8\n",
            "10\n",
            "12\n",
            "14\n",
            "16\n",
            "18\n"
          ]
        }
      ]
    },
    {
      "cell_type": "code",
      "source": [
        "for a in \"vishal\":\n",
        "  if a==\"i\":\n",
        "    break\n",
        "  print(a)  "
      ],
      "metadata": {
        "colab": {
          "base_uri": "https://localhost:8080/"
        },
        "id": "lrks4NKovliz",
        "outputId": "468068ef-9abb-4bb0-96d9-21f1d0705661"
      },
      "execution_count": null,
      "outputs": [
        {
          "output_type": "stream",
          "name": "stdout",
          "text": [
            "v\n"
          ]
        }
      ]
    },
    {
      "cell_type": "code",
      "source": [
        "for a in \"vishal\":\n",
        "  if a==\"i\":\n",
        "    continue\n",
        "  print(a) "
      ],
      "metadata": {
        "colab": {
          "base_uri": "https://localhost:8080/"
        },
        "id": "ilciIewqw_XL",
        "outputId": "c3b9190e-7947-4da1-f657-3998e67c7fec"
      },
      "execution_count": null,
      "outputs": [
        {
          "output_type": "stream",
          "name": "stdout",
          "text": [
            "v\n",
            "s\n",
            "h\n",
            "a\n",
            "l\n"
          ]
        }
      ]
    },
    {
      "cell_type": "code",
      "source": [
        "# no aug no ruturn type\n",
        "def add():\n",
        "  a=10\n",
        "  b=20\n",
        "  c=a+b\n",
        "  print(c)\n",
        "\n"
      ],
      "metadata": {
        "id": "UkcOM93XxJlf"
      },
      "execution_count": null,
      "outputs": []
    },
    {
      "cell_type": "code",
      "source": [
        "add()"
      ],
      "metadata": {
        "colab": {
          "base_uri": "https://localhost:8080/"
        },
        "id": "0dOxPSeR1R6z",
        "outputId": "5ffa5048-0a34-4f48-a120-51e22bfc18a0"
      },
      "execution_count": null,
      "outputs": [
        {
          "output_type": "stream",
          "name": "stdout",
          "text": [
            "30\n"
          ]
        }
      ]
    },
    {
      "cell_type": "code",
      "source": [
        "# no aug with return type\n",
        "def add():\n",
        "  c=\"siva\"\n",
        "  return c\n",
        "\n"
      ],
      "metadata": {
        "id": "zhs8anVB1Yyj"
      },
      "execution_count": null,
      "outputs": []
    },
    {
      "cell_type": "code",
      "source": [
        "add()"
      ],
      "metadata": {
        "colab": {
          "base_uri": "https://localhost:8080/",
          "height": 35
        },
        "id": "qRlowSHl2Tee",
        "outputId": "1e649e6a-54ae-47d5-cc6b-ea7eeb50b920"
      },
      "execution_count": null,
      "outputs": [
        {
          "output_type": "execute_result",
          "data": {
            "text/plain": [
              "'siva'"
            ],
            "application/vnd.google.colaboratory.intrinsic+json": {
              "type": "string"
            }
          },
          "metadata": {},
          "execution_count": 35
        }
      ]
    },
    {
      "cell_type": "code",
      "source": [
        "def add(a,v):\n",
        "  print(a+v)"
      ],
      "metadata": {
        "id": "mA9VGqKh2Uql"
      },
      "execution_count": null,
      "outputs": []
    },
    {
      "cell_type": "code",
      "source": [
        "add(10,12)"
      ],
      "metadata": {
        "colab": {
          "base_uri": "https://localhost:8080/"
        },
        "id": "fUiWmNqM2vud",
        "outputId": "36711835-1d1e-485c-e377-54c904e82e90"
      },
      "execution_count": null,
      "outputs": [
        {
          "output_type": "stream",
          "name": "stdout",
          "text": [
            "22\n"
          ]
        }
      ]
    },
    {
      "cell_type": "code",
      "source": [
        "def add(num1,num2):\n",
        "  return num1+num2"
      ],
      "metadata": {
        "id": "-n7sXq9r25bs"
      },
      "execution_count": null,
      "outputs": []
    },
    {
      "cell_type": "code",
      "source": [
        "add(10,14)"
      ],
      "metadata": {
        "colab": {
          "base_uri": "https://localhost:8080/"
        },
        "id": "XXWnePF03XpO",
        "outputId": "363955ba-9cbc-425d-8b29-8eca651decf4"
      },
      "execution_count": null,
      "outputs": [
        {
          "output_type": "execute_result",
          "data": {
            "text/plain": [
              "24"
            ]
          },
          "metadata": {},
          "execution_count": 40
        }
      ]
    },
    {
      "cell_type": "code",
      "source": [
        "def oddoreven(a):\n",
        "  if a%2==0:\n",
        "    print(\"is even\")\n",
        "  else:\n",
        "    print(\"is odd\")\n",
        "    return a\n",
        "\n"
      ],
      "metadata": {
        "id": "eB_-4D-R3cjq"
      },
      "execution_count": null,
      "outputs": []
    },
    {
      "cell_type": "code",
      "source": [
        "oddoreven(2)"
      ],
      "metadata": {
        "colab": {
          "base_uri": "https://localhost:8080/"
        },
        "id": "W5jke3BE5gNH",
        "outputId": "96a89f17-ff8c-4699-c59f-44693c07aac6"
      },
      "execution_count": null,
      "outputs": [
        {
          "output_type": "stream",
          "name": "stdout",
          "text": [
            "is even\n"
          ]
        }
      ]
    },
    {
      "cell_type": "code",
      "source": [
        "def add(list):\n",
        "  return lis\n",
        "\n"
      ],
      "metadata": {
        "id": "SSEeAM4U5kEQ"
      },
      "execution_count": null,
      "outputs": []
    },
    {
      "cell_type": "code",
      "source": [
        "a=[x*2 for x in [1,4,5,6,7,8] if x%2==0]"
      ],
      "metadata": {
        "id": "7IphCeB-6d-M"
      },
      "execution_count": null,
      "outputs": []
    },
    {
      "cell_type": "code",
      "source": [
        "print(a)"
      ],
      "metadata": {
        "colab": {
          "base_uri": "https://localhost:8080/"
        },
        "id": "ux-BqU5L6fsB",
        "outputId": "174097b7-f633-4978-fddd-ec79c8a0a2c1"
      },
      "execution_count": null,
      "outputs": [
        {
          "output_type": "stream",
          "name": "stdout",
          "text": [
            "[8, 12, 16]\n"
          ]
        }
      ]
    },
    {
      "cell_type": "code",
      "source": [
        "a=[x**2 for x in [1,4,5,6,7,8] ]"
      ],
      "metadata": {
        "id": "i2mmxzXT-WR9"
      },
      "execution_count": null,
      "outputs": []
    },
    {
      "cell_type": "code",
      "source": [
        "print(a)"
      ],
      "metadata": {
        "colab": {
          "base_uri": "https://localhost:8080/"
        },
        "id": "c_TdOct6-_yh",
        "outputId": "58667e5a-3312-47cb-a143-b55c84a7a3a9"
      },
      "execution_count": null,
      "outputs": [
        {
          "output_type": "stream",
          "name": "stdout",
          "text": [
            "[1, 16, 25, 36, 49, 64]\n"
          ]
        }
      ]
    },
    {
      "cell_type": "code",
      "source": [
        "a={x:x**2 for x in [1,4,5,6,7,8] if x%2==0}"
      ],
      "metadata": {
        "id": "HqJn0qEm_GLq"
      },
      "execution_count": null,
      "outputs": []
    },
    {
      "cell_type": "code",
      "source": [
        "print(a)"
      ],
      "metadata": {
        "colab": {
          "base_uri": "https://localhost:8080/"
        },
        "id": "-79RJwXw_Nht",
        "outputId": "136b74c6-f1ef-4032-c686-cb34ead2b0a5"
      },
      "execution_count": null,
      "outputs": [
        {
          "output_type": "stream",
          "name": "stdout",
          "text": [
            "{4: 16, 6: 36, 8: 64}\n"
          ]
        }
      ]
    },
    {
      "cell_type": "code",
      "source": [
        "a=[1,2,3,4,5,6]\n",
        "b=[\"a\",\"b\",\"c\",\"d\"]\n",
        "c=zip(a,b) \n",
        "print (list(c))"
      ],
      "metadata": {
        "colab": {
          "base_uri": "https://localhost:8080/"
        },
        "id": "jtwHFcP1_PGf",
        "outputId": "d41c201e-1a13-4cfb-b7c3-90b2e1a6f462"
      },
      "execution_count": null,
      "outputs": [
        {
          "output_type": "stream",
          "name": "stdout",
          "text": [
            "[(1, 'a'), (2, 'b'), (3, 'c'), (4, 'd')]\n"
          ]
        }
      ]
    },
    {
      "cell_type": "code",
      "source": [
        "\n",
        "a=[1,2,3,4,5,6]\n",
        "c=enumerate(a) \n",
        "print (list(c))"
      ],
      "metadata": {
        "colab": {
          "base_uri": "https://localhost:8080/"
        },
        "id": "QrdWoWt9AA36",
        "outputId": "a3cc42c0-6682-4123-9d96-5508490349bd"
      },
      "execution_count": null,
      "outputs": [
        {
          "output_type": "stream",
          "name": "stdout",
          "text": [
            "[(0, 1), (1, 2), (2, 3), (3, 4), (4, 5), (5, 6)]\n"
          ]
        }
      ]
    },
    {
      "cell_type": "code",
      "source": [
        "def oddoreven (list):\n",
        " odd=0\n",
        " even=0\n",
        " for a in list:\n",
        "   if a%2==0:\n",
        "      even=even+1\n",
        "   else:\n",
        "      odd=odd+1\n",
        " print(\"number of odd numbers=\",odd)\n",
        " print(\"number of even numbers=\",even)\n",
        "    \n"
      ],
      "metadata": {
        "id": "t0bw1N8zA2WA"
      },
      "execution_count": null,
      "outputs": []
    },
    {
      "cell_type": "code",
      "source": [
        "oddoreven([1,2,3,4,5,6,7,8])"
      ],
      "metadata": {
        "colab": {
          "base_uri": "https://localhost:8080/"
        },
        "id": "jD3unQhPb_FR",
        "outputId": "f2ce3d6c-b854-4946-deb1-b5acc364fe02"
      },
      "execution_count": null,
      "outputs": [
        {
          "output_type": "stream",
          "name": "stdout",
          "text": [
            "number of odd numbers= 4\n",
            "number of even numbers= 4\n"
          ]
        }
      ]
    },
    {
      "cell_type": "code",
      "source": [
        "lst=[1,2,3,4,5,6,7,8]\n",
        "a=0\n",
        "for b in (lst):\n",
        "  a=a+1\n",
        "  if a%2=="
      ],
      "metadata": {
        "id": "nKlRWMYecumB"
      },
      "execution_count": null,
      "outputs": []
    },
    {
      "cell_type": "code",
      "source": [
        "def digandalp (str):\n",
        " digit=0\n",
        " alpha=0\n",
        " for b in str:\n",
        "    if b.isdigit():\n",
        "      digit=digit+1\n",
        "    elif b.isalpha():\n",
        "       alpha=alpha+1\n",
        " print(\"number of alphas=\",alpha)\n",
        " print(\"numbers of digits=\",digit)\n",
        "\n"
      ],
      "metadata": {
        "id": "07PCcE_Rd3l1"
      },
      "execution_count": null,
      "outputs": []
    },
    {
      "cell_type": "code",
      "source": [
        "digandalp(\"siva1234\")"
      ],
      "metadata": {
        "colab": {
          "base_uri": "https://localhost:8080/"
        },
        "id": "IyLiouXBfiIv",
        "outputId": "fa0af524-588d-4fe0-fcaf-0f68b71e2dca"
      },
      "execution_count": null,
      "outputs": [
        {
          "output_type": "stream",
          "name": "stdout",
          "text": [
            "number of alphas= 4\n",
            "numbers of digits= 4\n"
          ]
        }
      ]
    },
    {
      "cell_type": "code",
      "source": [
        "def avg (lst):\n",
        "  return sum(lst)/len(lst)\n",
        "  \n"
      ],
      "metadata": {
        "id": "sru_Ki0wgU0U"
      },
      "execution_count": null,
      "outputs": []
    },
    {
      "cell_type": "code",
      "source": [
        "avg([1,2,3,4])"
      ],
      "metadata": {
        "colab": {
          "base_uri": "https://localhost:8080/"
        },
        "id": "tnC2L-e8hd2D",
        "outputId": "4a1225c5-ce15-444b-a558-aa61c2980a4c"
      },
      "execution_count": null,
      "outputs": [
        {
          "output_type": "execute_result",
          "data": {
            "text/plain": [
              "2.5"
            ]
          },
          "metadata": {},
          "execution_count": 22
        }
      ]
    },
    {
      "cell_type": "code",
      "source": [
        "# global and local"
      ],
      "metadata": {
        "id": "-xVKj-sviaVQ"
      },
      "execution_count": null,
      "outputs": []
    },
    {
      "cell_type": "code",
      "source": [
        "x=5\n",
        "def myfun ():\n",
        "  global x\n",
        "  x=10\n",
        "  print(x)\n"
      ],
      "metadata": {
        "id": "mxRItpZYhiLK"
      },
      "execution_count": null,
      "outputs": []
    },
    {
      "cell_type": "code",
      "source": [
        "myfun()\n",
        "print(x)"
      ],
      "metadata": {
        "colab": {
          "base_uri": "https://localhost:8080/"
        },
        "id": "9eIq4ePgiAm3",
        "outputId": "45d60dfb-7f74-4227-83a7-877d724fe7b2"
      },
      "execution_count": null,
      "outputs": [
        {
          "output_type": "stream",
          "name": "stdout",
          "text": [
            "10\n",
            "10\n"
          ]
        }
      ]
    },
    {
      "cell_type": "code",
      "source": [
        "# arbitory"
      ],
      "metadata": {
        "id": "pCSaAeBciFyI"
      },
      "execution_count": null,
      "outputs": []
    },
    {
      "cell_type": "code",
      "source": [
        "def myfun (*name):\n",
        "  print(name)"
      ],
      "metadata": {
        "id": "19i6iPrEit6L"
      },
      "execution_count": null,
      "outputs": []
    },
    {
      "cell_type": "code",
      "source": [
        "myfun(\"siva\",\"vishal\")"
      ],
      "metadata": {
        "colab": {
          "base_uri": "https://localhost:8080/"
        },
        "id": "R46xq97ujCuX",
        "outputId": "e895eeb0-573f-4d66-9595-407b454dd578"
      },
      "execution_count": null,
      "outputs": [
        {
          "output_type": "stream",
          "name": "stdout",
          "text": [
            "('siva', 'vishal')\n"
          ]
        }
      ]
    },
    {
      "cell_type": "code",
      "source": [
        "# keyword arguments"
      ],
      "metadata": {
        "id": "bNPTU6UyjJIM"
      },
      "execution_count": null,
      "outputs": []
    },
    {
      "cell_type": "code",
      "source": [
        "def myfun (name1,name2):\n",
        "  print(name1,name2)"
      ],
      "metadata": {
        "id": "2eVLXSZajaYl"
      },
      "execution_count": null,
      "outputs": []
    },
    {
      "cell_type": "code",
      "source": [
        "myfun(name1=\"siva\",name2=\"vishal\")"
      ],
      "metadata": {
        "colab": {
          "base_uri": "https://localhost:8080/"
        },
        "id": "-t_G8eoRjtEM",
        "outputId": "bbc96a11-5ca0-4080-b0bc-621a372d286f"
      },
      "execution_count": null,
      "outputs": [
        {
          "output_type": "stream",
          "name": "stdout",
          "text": [
            "siva vishal\n"
          ]
        }
      ]
    },
    {
      "cell_type": "code",
      "source": [
        "# arbitory keyword"
      ],
      "metadata": {
        "id": "zQvSvQ3Rj2kY"
      },
      "execution_count": null,
      "outputs": []
    },
    {
      "cell_type": "code",
      "source": [
        "def myfun(**names):\n",
        "  print(names)"
      ],
      "metadata": {
        "id": "kkQ2RWhkkIpA"
      },
      "execution_count": null,
      "outputs": []
    },
    {
      "cell_type": "code",
      "source": [
        "myfun(name1=\"siva\",place=\"marthandam\")"
      ],
      "metadata": {
        "colab": {
          "base_uri": "https://localhost:8080/"
        },
        "id": "KE6x5R-2kSJR",
        "outputId": "29cb9b44-0cee-49a6-d034-4fe64bc5c396"
      },
      "execution_count": null,
      "outputs": [
        {
          "output_type": "stream",
          "name": "stdout",
          "text": [
            "{'name1': 'siva', 'place': 'marthandam'}\n"
          ]
        }
      ]
    },
    {
      "cell_type": "code",
      "source": [
        "# default"
      ],
      "metadata": {
        "id": "xxGIc35MkbUV"
      },
      "execution_count": null,
      "outputs": []
    },
    {
      "cell_type": "code",
      "source": [
        "def myfun(name=\"siva\"):\n",
        "  print(name)"
      ],
      "metadata": {
        "id": "4H3Cpl8vkl0u"
      },
      "execution_count": null,
      "outputs": []
    },
    {
      "cell_type": "code",
      "source": [
        "myfun()"
      ],
      "metadata": {
        "colab": {
          "base_uri": "https://localhost:8080/"
        },
        "id": "fAFLaj5YksKi",
        "outputId": "b1f35d1d-a91f-4bc8-92fd-f94a221d3831"
      },
      "execution_count": null,
      "outputs": [
        {
          "output_type": "stream",
          "name": "stdout",
          "text": [
            "siva\n"
          ]
        }
      ]
    },
    {
      "cell_type": "code",
      "source": [
        "myfun(\"vishal\")"
      ],
      "metadata": {
        "colab": {
          "base_uri": "https://localhost:8080/"
        },
        "id": "tz79PHDAktkD",
        "outputId": "294b4047-2a8e-4198-9b06-f2af777a6dd3"
      },
      "execution_count": null,
      "outputs": [
        {
          "output_type": "stream",
          "name": "stdout",
          "text": [
            "vishal\n"
          ]
        }
      ]
    },
    {
      "cell_type": "code",
      "source": [
        "try:\n",
        "  print(a+b)\n",
        "except:\n",
        "  print(10+20)"
      ],
      "metadata": {
        "colab": {
          "base_uri": "https://localhost:8080/"
        },
        "id": "wz3nBiXEkxIY",
        "outputId": "cf4fcbbf-881a-408a-d74c-3321b0591ed8"
      },
      "execution_count": null,
      "outputs": [
        {
          "output_type": "stream",
          "name": "stdout",
          "text": [
            "30\n"
          ]
        }
      ]
    },
    {
      "cell_type": "code",
      "source": [
        "try:\n",
        "  print(siva)\n",
        "except TypeError:\n",
        "  print(\"type error\")\n",
        "except NameError:\n",
        "  print(\"name error\")\n",
        "except:\n",
        "  print(\"nothing\")"
      ],
      "metadata": {
        "colab": {
          "base_uri": "https://localhost:8080/"
        },
        "id": "S5uxS4omlfoX",
        "outputId": "0f6955fa-4d35-4f6f-deb4-b5111b09b4a0"
      },
      "execution_count": null,
      "outputs": [
        {
          "output_type": "stream",
          "name": "stdout",
          "text": [
            "name error\n"
          ]
        }
      ]
    },
    {
      "cell_type": "code",
      "source": [
        "try:\n",
        "  print(10+40)\n",
        "except:\n",
        "  print(10+40)\n",
        "else:\n",
        "  print(\"correct\")\n",
        "finally:\n",
        "  print(\"end\")"
      ],
      "metadata": {
        "colab": {
          "base_uri": "https://localhost:8080/"
        },
        "id": "DTUggeP1l__w",
        "outputId": "7d010671-519d-4899-f284-1521f4026d73"
      },
      "execution_count": null,
      "outputs": [
        {
          "output_type": "stream",
          "name": "stdout",
          "text": [
            "50\n",
            "correct\n",
            "end\n"
          ]
        }
      ]
    },
    {
      "cell_type": "code",
      "source": [
        "def divide(num1):\n",
        " try:\n",
        "  divide=num1/0\n",
        " except:\n",
        "  print(\"zero error\")\n",
        "\n",
        "\n",
        "\n"
      ],
      "metadata": {
        "id": "bMN1BcGnm3c_"
      },
      "execution_count": null,
      "outputs": []
    },
    {
      "cell_type": "code",
      "source": [
        "divide(40)"
      ],
      "metadata": {
        "colab": {
          "base_uri": "https://localhost:8080/"
        },
        "id": "FOIcqQOboEZ_",
        "outputId": "e12e6cae-04a1-4a4a-b0f4-e551c9e7e3ca"
      },
      "execution_count": null,
      "outputs": [
        {
          "output_type": "stream",
          "name": "stdout",
          "text": [
            "zero error\n"
          ]
        }
      ]
    },
    {
      "cell_type": "code",
      "source": [
        "def length(str):\n",
        "  return len(str)"
      ],
      "metadata": {
        "id": "Hd_hH5I-oMgy"
      },
      "execution_count": null,
      "outputs": []
    },
    {
      "cell_type": "code",
      "source": [
        "length(\"siva\")"
      ],
      "metadata": {
        "colab": {
          "base_uri": "https://localhost:8080/"
        },
        "id": "5TwG6PHQoyoF",
        "outputId": "26af8330-cdd1-4518-d714-fb69e4436fa1"
      },
      "execution_count": null,
      "outputs": [
        {
          "output_type": "execute_result",
          "data": {
            "text/plain": [
              "4"
            ]
          },
          "metadata": {},
          "execution_count": 63
        }
      ]
    },
    {
      "cell_type": "code",
      "source": [
        "def length(string):\n",
        " str=0\n",
        " for a in string:\n",
        "  str=str+1    \n",
        " print(\"length of list=\",str)"
      ],
      "metadata": {
        "id": "U6VrMKouo8UF"
      },
      "execution_count": null,
      "outputs": []
    },
    {
      "cell_type": "code",
      "source": [
        "length(\"vishal\")"
      ],
      "metadata": {
        "colab": {
          "base_uri": "https://localhost:8080/"
        },
        "id": "6zC4d0dYqa4b",
        "outputId": "1ff72bcd-ab84-464c-f7cf-285666d5a5c5"
      },
      "execution_count": null,
      "outputs": [
        {
          "output_type": "stream",
          "name": "stdout",
          "text": [
            "length of list= 6\n"
          ]
        }
      ]
    },
    {
      "cell_type": "code",
      "source": [
        "def list(lst):\n",
        "  for a in lst:\n",
        "   print(a)"
      ],
      "metadata": {
        "id": "1qLjZtteqd9Q"
      },
      "execution_count": null,
      "outputs": []
    },
    {
      "cell_type": "code",
      "source": [
        "list([\"siva\",\"vishal\"])"
      ],
      "metadata": {
        "colab": {
          "base_uri": "https://localhost:8080/"
        },
        "id": "tQnWDHsQrpHJ",
        "outputId": "662ae75a-9b1f-4259-e5ee-da610aa9a31e"
      },
      "execution_count": null,
      "outputs": [
        {
          "output_type": "stream",
          "name": "stdout",
          "text": [
            "siva\n",
            "vishal\n"
          ]
        }
      ]
    },
    {
      "cell_type": "code",
      "source": [
        "def sqr(lst):\n",
        " list2=[a**2 for a in lst]\n",
        " print(\"square of list\",list2)\n"
      ],
      "metadata": {
        "id": "1WL2jlAMryl-"
      },
      "execution_count": null,
      "outputs": []
    },
    {
      "cell_type": "code",
      "source": [
        "sqr([1,2,3,4,5,6])"
      ],
      "metadata": {
        "colab": {
          "base_uri": "https://localhost:8080/"
        },
        "id": "TmFYu-3jveTM",
        "outputId": "31a47efe-a185-4a2e-e3eb-8189333fc2f8"
      },
      "execution_count": null,
      "outputs": [
        {
          "output_type": "stream",
          "name": "stdout",
          "text": [
            "square of list [1, 4, 9, 16, 25, 36]\n"
          ]
        }
      ]
    },
    {
      "cell_type": "code",
      "source": [
        "x=[\"siva\",\"vishal\",\"jenish\"]\n",
        "\n",
        "  "
      ],
      "metadata": {
        "id": "Pz5SeGyDxQX4",
        "colab": {
          "base_uri": "https://localhost:8080/",
          "height": 131
        },
        "outputId": "bf15e0fa-4377-48ed-e61c-72708518613f"
      },
      "execution_count": null,
      "outputs": [
        {
          "output_type": "error",
          "ename": "IndentationError",
          "evalue": "ignored",
          "traceback": [
            "\u001b[0;36m  File \u001b[0;32m\"<ipython-input-8-63ffc98cb94a>\"\u001b[0;36m, line \u001b[0;32m3\u001b[0m\n\u001b[0;31m    \u001b[0m\n\u001b[0m    ^\u001b[0m\n\u001b[0;31mIndentationError\u001b[0m\u001b[0;31m:\u001b[0m unexpected indent\n"
          ]
        }
      ]
    },
    {
      "cell_type": "code",
      "source": [],
      "metadata": {
        "id": "naTVQMMPkEYY"
      },
      "execution_count": null,
      "outputs": []
    }
  ]
}