{
  "nbformat": 4,
  "nbformat_minor": 0,
  "metadata": {
    "colab": {
      "provenance": [],
      "include_colab_link": true
    },
    "kernelspec": {
      "name": "python3",
      "display_name": "Python 3"
    },
    "language_info": {
      "name": "python"
    }
  },
  "cells": [
    {
      "cell_type": "markdown",
      "metadata": {
        "id": "view-in-github",
        "colab_type": "text"
      },
      "source": [
        "<a href=\"https://colab.research.google.com/github/SIVASHANKERPS/Oracuz-Infotech-Internship/blob/main/OOPS.ipynb\" target=\"_parent\"><img src=\"https://colab.research.google.com/assets/colab-badge.svg\" alt=\"Open In Colab\"/></a>"
      ]
    },
    {
      "cell_type": "code",
      "execution_count": null,
      "metadata": {
        "id": "DKTile9YUsWe"
      },
      "outputs": [],
      "source": []
    },
    {
      "cell_type": "code",
      "source": [
        "# instance method"
      ],
      "metadata": {
        "id": "pqsuUkqPOU7n"
      },
      "execution_count": null,
      "outputs": []
    },
    {
      "cell_type": "code",
      "source": [
        "class Siva:\n",
        "  def myfun (self,bruce):\n",
        "    print(\"hello\")\n",
        "    self.name=bruce\n",
        "  def vishal(self):  \n",
        "    print(self.name)\n",
        "a=Siva()\n",
        "# a.myfun(\"bruce\") \n",
        "a.vishal()\n",
        "\n"
      ],
      "metadata": {
        "colab": {
          "base_uri": "https://localhost:8080/",
          "height": 356
        },
        "id": "QJwQr21_3lu7",
        "outputId": "5dbc2ac9-8b07-4eb1-fb0b-e5d2f9edc2a7"
      },
      "execution_count": null,
      "outputs": [
        {
          "output_type": "error",
          "ename": "AttributeError",
          "evalue": "ignored",
          "traceback": [
            "\u001b[0;31m---------------------------------------------------------------------------\u001b[0m",
            "\u001b[0;31mAttributeError\u001b[0m                            Traceback (most recent call last)",
            "\u001b[0;32m<ipython-input-10-a43b50540a1a>\u001b[0m in \u001b[0;36m<module>\u001b[0;34m()\u001b[0m\n\u001b[1;32m      7\u001b[0m \u001b[0ma\u001b[0m\u001b[0;34m=\u001b[0m\u001b[0mSiva\u001b[0m\u001b[0;34m(\u001b[0m\u001b[0;34m)\u001b[0m\u001b[0;34m\u001b[0m\u001b[0;34m\u001b[0m\u001b[0m\n\u001b[1;32m      8\u001b[0m \u001b[0;31m# a.myfun(\"bruce\")\u001b[0m\u001b[0;34m\u001b[0m\u001b[0;34m\u001b[0m\u001b[0;34m\u001b[0m\u001b[0m\n\u001b[0;32m----> 9\u001b[0;31m \u001b[0ma\u001b[0m\u001b[0;34m.\u001b[0m\u001b[0mvishal\u001b[0m\u001b[0;34m(\u001b[0m\u001b[0;34m)\u001b[0m\u001b[0;34m\u001b[0m\u001b[0;34m\u001b[0m\u001b[0m\n\u001b[0m\u001b[1;32m     10\u001b[0m \u001b[0;34m\u001b[0m\u001b[0m\n",
            "\u001b[0;32m<ipython-input-10-a43b50540a1a>\u001b[0m in \u001b[0;36mvishal\u001b[0;34m(self)\u001b[0m\n\u001b[1;32m      4\u001b[0m     \u001b[0mself\u001b[0m\u001b[0;34m.\u001b[0m\u001b[0mname\u001b[0m\u001b[0;34m=\u001b[0m\u001b[0mbruce\u001b[0m\u001b[0;34m\u001b[0m\u001b[0;34m\u001b[0m\u001b[0m\n\u001b[1;32m      5\u001b[0m   \u001b[0;32mdef\u001b[0m \u001b[0mvishal\u001b[0m\u001b[0;34m(\u001b[0m\u001b[0mself\u001b[0m\u001b[0;34m)\u001b[0m\u001b[0;34m:\u001b[0m\u001b[0;34m\u001b[0m\u001b[0;34m\u001b[0m\u001b[0m\n\u001b[0;32m----> 6\u001b[0;31m     \u001b[0mprint\u001b[0m\u001b[0;34m(\u001b[0m\u001b[0mself\u001b[0m\u001b[0;34m.\u001b[0m\u001b[0mname\u001b[0m\u001b[0;34m)\u001b[0m\u001b[0;34m\u001b[0m\u001b[0;34m\u001b[0m\u001b[0m\n\u001b[0m\u001b[1;32m      7\u001b[0m \u001b[0ma\u001b[0m\u001b[0;34m=\u001b[0m\u001b[0mSiva\u001b[0m\u001b[0;34m(\u001b[0m\u001b[0;34m)\u001b[0m\u001b[0;34m\u001b[0m\u001b[0;34m\u001b[0m\u001b[0m\n\u001b[1;32m      8\u001b[0m \u001b[0;31m# a.myfun(\"bruce\")\u001b[0m\u001b[0;34m\u001b[0m\u001b[0;34m\u001b[0m\u001b[0;34m\u001b[0m\u001b[0m\n",
            "\u001b[0;31mAttributeError\u001b[0m: 'Siva' object has no attribute 'name'"
          ]
        }
      ]
    },
    {
      "cell_type": "code",
      "source": [
        "b=Siva()\n",
        "b.myfun()"
      ],
      "metadata": {
        "colab": {
          "base_uri": "https://localhost:8080/"
        },
        "id": "QQ1gQg7aHpKe",
        "outputId": "0212e45f-078b-4071-d955-fffc9bd319f2"
      },
      "execution_count": null,
      "outputs": [
        {
          "output_type": "stream",
          "name": "stdout",
          "text": [
            "hello\n"
          ]
        }
      ]
    },
    {
      "cell_type": "code",
      "source": [
        "# construct method"
      ],
      "metadata": {
        "id": "juvo9MtXOaq8"
      },
      "execution_count": null,
      "outputs": []
    },
    {
      "cell_type": "code",
      "source": [
        "class Sample:\n",
        "  def __init__(self,name,place):\n",
        "    self.name=name\n",
        "    self.place=place\n",
        "  def myfunction(self): \n",
        "    print(self.name,self.place)\n",
        "a=Sample(\"SIVA\",\"TVM\")\n",
        "a.myfunction()\n",
        "b=Sample(\"vishal\",\"mtm\")\n",
        "b.myfunction()\n",
        "\n"
      ],
      "metadata": {
        "colab": {
          "base_uri": "https://localhost:8080/"
        },
        "id": "-R7_EaTiKRgW",
        "outputId": "6a51c2e9-c170-474a-e127-b9f5efffa77a"
      },
      "execution_count": null,
      "outputs": [
        {
          "output_type": "stream",
          "name": "stdout",
          "text": [
            "SIVA TVM\n",
            "vishal mtm\n"
          ]
        }
      ]
    },
    {
      "cell_type": "code",
      "source": [
        "class Sample:\n",
        "# class attribute  \n",
        "  year=2022 \n",
        "  def __init__(self,name,place):\n",
        "    self.name=name\n",
        "    self.place=place\n",
        "  def myfunction(self):\n",
        "    print(self.name,self.place)\n",
        "a=Sample(\"siva\",\"tvm\")\n",
        "print(a.name)\n",
        "a.name=\"vishal\"\n",
        "print(a.name)"
      ],
      "metadata": {
        "colab": {
          "base_uri": "https://localhost:8080/"
        },
        "id": "XLJNOIP2Hx1B",
        "outputId": "b6a9ded3-9f10-4329-f9c1-8f235bde8e72"
      },
      "execution_count": null,
      "outputs": [
        {
          "output_type": "stream",
          "name": "stdout",
          "text": [
            "siva\n",
            "vishal\n"
          ]
        }
      ]
    },
    {
      "cell_type": "code",
      "source": [
        "class Sample:\n",
        "  year=2022\n",
        "  def __init__(self,name,place):\n",
        "    self.name=name\n",
        "    self.place=place\n",
        "  def myfunction(self):\n",
        "    print(self.name,self.place)\n",
        "  @classmethod \n",
        "  def changeyr (cls):\n",
        "    cls.year=1990\n",
        "Sample.year\n",
        "Sample.changeyr()\n",
        "print(Sample.year)"
      ],
      "metadata": {
        "colab": {
          "base_uri": "https://localhost:8080/"
        },
        "id": "MgmnLh9qMcvD",
        "outputId": "b9f0ab70-5dbe-409a-c2e8-64f434e36895"
      },
      "execution_count": null,
      "outputs": [
        {
          "output_type": "stream",
          "name": "stdout",
          "text": [
            "1990\n"
          ]
        }
      ]
    },
    {
      "cell_type": "code",
      "source": [
        "# static method"
      ],
      "metadata": {
        "id": "a1jDfYbVOAgG"
      },
      "execution_count": null,
      "outputs": []
    },
    {
      "cell_type": "code",
      "source": [
        "class Static:\n",
        "  @staticmethod\n",
        "  def myfun (name):\n",
        "    print(\"siva\")\n",
        "Static.myfun(\"siva\")    "
      ],
      "metadata": {
        "colab": {
          "base_uri": "https://localhost:8080/"
        },
        "id": "JyxybGDWO0kh",
        "outputId": "1a623254-13e9-4ffb-dd21-4502f77249ad"
      },
      "execution_count": null,
      "outputs": [
        {
          "output_type": "stream",
          "name": "stdout",
          "text": [
            "siva\n"
          ]
        }
      ]
    },
    {
      "cell_type": "code",
      "source": [
        "class Rectangle:\n",
        "  def __init__(self,length,breadth):\n",
        "    self.length=length\n",
        "    self.breadth=breadth\n",
        "  def area (self):\n",
        "    print((self.length+self.breadth)*2)\n",
        "a=Rectangle(4,2)\n",
        "print(a.area())\n",
        "\n"
      ],
      "metadata": {
        "colab": {
          "base_uri": "https://localhost:8080/"
        },
        "id": "ZL3Loa5IPTeq",
        "outputId": "622ee019-88b3-4f04-a88f-90e59c9bd650"
      },
      "execution_count": null,
      "outputs": [
        {
          "output_type": "stream",
          "name": "stdout",
          "text": [
            "12\n",
            "None\n"
          ]
        }
      ]
    }
  ]
}