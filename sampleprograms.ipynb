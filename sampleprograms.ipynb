{
  "nbformat": 4,
  "nbformat_minor": 0,
  "metadata": {
    "colab": {
      "provenance": [],
      "authorship_tag": "ABX9TyMh3X5akPKHydsc3n9FnsvV",
      "include_colab_link": true
    },
    "kernelspec": {
      "name": "python3",
      "display_name": "Python 3"
    },
    "language_info": {
      "name": "python"
    }
  },
  "cells": [
    {
      "cell_type": "markdown",
      "metadata": {
        "id": "view-in-github",
        "colab_type": "text"
      },
      "source": [
        "<a href=\"https://colab.research.google.com/github/SIVASHANKERPS/Oracuz-Infotech-Internship/blob/main/sampleprograms.ipynb\" target=\"_parent\"><img src=\"https://colab.research.google.com/assets/colab-badge.svg\" alt=\"Open In Colab\"/></a>"
      ]
    },
    {
      "cell_type": "code",
      "execution_count": null,
      "metadata": {
        "id": "D7jSOXnvZ782"
      },
      "outputs": [],
      "source": [
        "#sample programs"
      ]
    },
    {
      "cell_type": "code",
      "source": [
        "#python program to find the number of odd and even numbers in the list"
      ],
      "metadata": {
        "id": "FQjqTSHzaCcy"
      },
      "execution_count": null,
      "outputs": []
    },
    {
      "cell_type": "code",
      "source": [
        "numbers=[1,2,3,4,5,6,7,8]\n",
        "even=0\n",
        "odd=0\n",
        "for a in numbers:\n",
        "  if a%2==0:\n",
        "    even=even+1\n",
        "  else:\n",
        "    odd=odd+1\n",
        "print(\"number of odd numbers\",odd)\n",
        "print(\"numbers of even numbers\",even)"
      ],
      "metadata": {
        "colab": {
          "base_uri": "https://localhost:8080/"
        },
        "id": "p2PPxIsIaZjt",
        "outputId": "302dd335-c6c9-4ece-f796-8f54a7cdb2f4"
      },
      "execution_count": null,
      "outputs": [
        {
          "output_type": "stream",
          "name": "stdout",
          "text": [
            "number of odd numbers 4\n",
            "numbers of even numbers 4\n"
          ]
        }
      ]
    },
    {
      "cell_type": "code",
      "source": [
        "def frequent(lst):\n",
        " count=0\n",
        " num=lst[0]\n",
        " for i in lst:\n",
        "   current=lst.count(i)\n",
        "   if(current>count):\n",
        "     count=current\n",
        "     num=i\n",
        " return str(num)\n",
        "lst=[1,1,3,1,1,1,3,4]\n",
        "print(frequent(lst) + 'appeared max times')\n"
      ],
      "metadata": {
        "id": "S4hcYT9kbFHJ",
        "colab": {
          "base_uri": "https://localhost:8080/"
        },
        "outputId": "c626c11b-7bda-42b6-8751-bdde88ca13f6"
      },
      "execution_count": null,
      "outputs": [
        {
          "output_type": "stream",
          "name": "stdout",
          "text": [
            "1appeared max times\n"
          ]
        }
      ]
    }
  ]
}